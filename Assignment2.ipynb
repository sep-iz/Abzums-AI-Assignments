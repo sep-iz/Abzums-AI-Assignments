{
 "cells": [
  {
   "cell_type": "markdown",
   "id": "d9bcc2b8",
   "metadata": {},
   "source": [
    "# Assignment 2: Control Flow, Loop\n",
    "\n",
    "**Course:** AbzumsAI Programming 1404\n",
    "\n",
    "**Instructor:** Mr. Ali Mohammadzadeh Shabestari\n",
    "\n",
    "**Date Assigned:** June 15, 2025\n",
    "\n",
    "**Deadline:** June 18, 2025"
   ]
  },
  {
   "cell_type": "markdown",
   "id": "6e9a9d57",
   "metadata": {},
   "source": [
    "## Learning Objectives\n",
    "\n",
    "By the end of this notebook, you will:\n",
    "\n",
    "- Understand how to control program flow using if, elif, and else statements.\n",
    "\n",
    "- Learn how to write nested if statements and apply logical operators (and, or, not).\n",
    "\n",
    "- Use for loops to iterate over ranges, lists, strings, and other iterable objects.\n",
    "\n",
    "- Use while loops to execute code repeatedly while a condition is true.\n",
    "\n",
    "- Apply loop control statements (break and continue) to modify loop behavior.\n",
    "\n",
    "---"
   ]
  },
  {
   "cell_type": "markdown",
   "id": "bc082db1",
   "metadata": {},
   "source": [
    "# Cell 0: Student Information\n",
    "\n",
    "### Please enter your details for grading purposes:\n",
    "\n",
    "Your Name: Sepeta Zibaei\n",
    "\n",
    "Your Email:Sepz821mds@gmail.com\n",
    "\n",
    "Your Gthub Link: http://github.com/sep-iz"
   ]
  },
  {
   "cell_type": "markdown",
   "id": "b60f1c78",
   "metadata": {},
   "source": [
    "## Cell 1: `if`, `elif`, `else` Control Flow"
   ]
  },
  {
   "cell_type": "markdown",
   "id": "09b5c94a",
   "metadata": {},
   "source": [
    "Write a program that reads a temperature (integer input).\n",
    "\n",
    "- If temperature > 30, print \"It's a hot day.\"\n",
    "\n",
    "- If temperature > 20, print \"It's a nice day.\"\n",
    "\n",
    "- If temperature > 10, print \"It's a bit chilly.\"\n",
    "\n",
    "- Otherwise, print \"It's cold outside.\""
   ]
  },
  {
   "cell_type": "code",
   "execution_count": 2,
   "id": "23744f8c",
   "metadata": {},
   "outputs": [
    {
     "name": "stdin",
     "output_type": "stream",
     "text": [
      "enter the temprature 40\n"
     ]
    },
    {
     "name": "stdout",
     "output_type": "stream",
     "text": [
      "it's a hot day\n"
     ]
    }
   ],
   "source": [
    "\n",
    "temprature = int(input(\"enter the temprature\"))\n",
    "if temprature> 30 :\n",
    "   print(\"it's a hot day\")\n",
    "elif temprature> 20 :\n",
    "     print (\"It's a nice day\")\n",
    "elif temprature> 10 :\n",
    "     print(\"it's a bit chilly\")\n",
    "else: \n",
    "     print(\"it's cold outside\")"
   ]
  },
  {
   "cell_type": "markdown",
   "id": "60e5a456",
   "metadata": {},
   "source": [
    "## Cell 2: Nested `if` statements"
   ]
  },
  {
   "cell_type": "markdown",
   "id": "86b9f19e",
   "metadata": {},
   "source": [
    "Check concert eligibility.\n",
    "\n",
    "- Read user's age (integer input) and whether they have a ticket (boolean input: True/False).\n",
    "\n",
    "- If the user is 18 or older AND has a ticket, print \"You can enter the concert.\"\n",
    "\n",
    "- If the user is 18 or older BUT doesn't have a ticket, print \"You need a ticket to enter.\"\n",
    "\n",
    "- Otherwise, print \"You are too young for the concert.\"\n"
   ]
  },
  {
   "cell_type": "code",
   "execution_count": 3,
   "id": "34be97ed",
   "metadata": {},
   "outputs": [
    {
     "name": "stdin",
     "output_type": "stream",
     "text": [
      "enter your age 20\n",
      "Do you have a ticket? (yes/no):  no\n"
     ]
    },
    {
     "name": "stdout",
     "output_type": "stream",
     "text": [
      "you need a ticket to enter\n"
     ]
    }
   ],
   "source": [
    "\n",
    "age = int(input(\"enter your age\"))\n",
    "has_ticket = input(\"Do you have a ticket? (yes/no): \").lower()==\"yes\"\n",
    "if age >= 18 :\n",
    "    if has_ticket:\n",
    "       print(\"you can enter the concert\")\n",
    "    else :\n",
    "       print(\"you need a ticket to enter\")\n",
    "else :\n",
    "     print(\" you are too young for the concert\")"
   ]
  },
  {
   "cell_type": "markdown",
   "id": "2df49f77",
   "metadata": {},
   "source": [
    "## Cell 3: Iterating over collections"
   ]
  },
  {
   "cell_type": "markdown",
   "id": "fe3ac152",
   "metadata": {},
   "source": [
    "- Create a list of 5 fruits.\n",
    "\n",
    "- Use a for loop to print \"I like [fruit]\" for each fruit in the list.\n",
    "\n",
    "- Then iterate over the string \"Python\" and print each letter on a separate line.\n"
   ]
  },
  {
   "cell_type": "code",
   "execution_count": 4,
   "id": "d3c5e8bb",
   "metadata": {},
   "outputs": [
    {
     "name": "stdout",
     "output_type": "stream",
     "text": [
      "i like blueberry\n",
      "i like apple\n",
      "i like grape\n",
      "i like cherry\n",
      "i like peach\n",
      "Letters in 'python' : \n",
      "p\n",
      "y\n",
      "t\n",
      "h\n",
      "o\n",
      "n\n"
     ]
    }
   ],
   "source": [
    "fruits = [\"blueberry\", \"apple\",\"grape\",\"cherry\",\"peach\"]\n",
    "for fruit in fruits :\n",
    "    print(f\"i like {fruit}\")\n",
    "print(\"Letters in 'python' : \")    \n",
    "for letter in \"python\" :\n",
    "    print(letter)"
   ]
  },
  {
   "cell_type": "markdown",
   "id": "7a9ee851",
   "metadata": {},
   "source": [
    "## Cell 4: `for` loop with `range()`"
   ]
  },
  {
   "cell_type": "markdown",
   "id": "bf0220d9",
   "metadata": {},
   "source": [
    "Use a for loop to:\n",
    "\n",
    "a) Print numbers from 1 to 10.\n",
    "\n",
    "b) Calculate and print the sum of numbers from 1 to 10.\n"
   ]
  },
  {
   "cell_type": "code",
   "execution_count": 16,
   "id": "f4255b85",
   "metadata": {},
   "outputs": [
    {
     "name": "stdout",
     "output_type": "stream",
     "text": [
      "numbers from 1-10 :\n",
      "1\n",
      "2\n",
      "3\n",
      "4\n",
      "5\n",
      "6\n",
      "7\n",
      "8\n",
      "9\n",
      "10\n",
      "sum of numbers from 1-10 :\n",
      "the sum is: 55\n"
     ]
    }
   ],
   "source": [
    "print(\"numbers from 1-10 :\")\n",
    "for number in range(1,11) :\n",
    "    print(number)\n",
    "print(\"sum of numbers from 1-10 :\")\n",
    "total = 0 \n",
    "for number in range(1,11):\n",
    "    total+=number\n",
    "print(\"the sum is:\", total)"
   ]
  },
  {
   "cell_type": "markdown",
   "id": "fe210e58",
   "metadata": {},
   "source": [
    "## Cell 5: `while` loops and loop control (`break`, `continue`)"
   ]
  },
  {
   "cell_type": "markdown",
   "id": "e2ff6b31",
   "metadata": {},
   "source": [
    "Use a `while` loop to count from 1 upwards.\n",
    "\n",
    "- If count reaches 3, skip printing (use continue).\n",
    "\n",
    "- If count reaches 7, stop the loop (use break).\n",
    "\n",
    "- Otherwise, print the current count.\n"
   ]
  },
  {
   "cell_type": "code",
   "execution_count": 1,
   "id": "6d784b0d",
   "metadata": {},
   "outputs": [
    {
     "name": "stdout",
     "output_type": "stream",
     "text": [
      "1\n",
      "2\n",
      "4\n",
      "5\n",
      "6\n"
     ]
    }
   ],
   "source": [
    "count = 1\n",
    "while True:\n",
    "    if count ==3:\n",
    "        count+=1\n",
    "        continue\n",
    "    if count ==7:\n",
    "        break\n",
    "    print(count)\n",
    "    count+=1"
   ]
  },
  {
   "cell_type": "code",
   "execution_count": null,
   "id": "b212a532-a047-424e-8daa-e1b71f878822",
   "metadata": {},
   "outputs": [],
   "source": []
  }
 ],
 "metadata": {
  "kernelspec": {
   "display_name": "Python [conda env:base] *",
   "language": "python",
   "name": "conda-base-py"
  },
  "language_info": {
   "codemirror_mode": {
    "name": "ipython",
    "version": 3
   },
   "file_extension": ".py",
   "mimetype": "text/x-python",
   "name": "python",
   "nbconvert_exporter": "python",
   "pygments_lexer": "ipython3",
   "version": "3.12.7"
  }
 },
 "nbformat": 4,
 "nbformat_minor": 5
}
