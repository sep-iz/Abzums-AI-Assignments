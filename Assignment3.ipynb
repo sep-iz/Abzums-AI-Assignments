{
 "cells": [
  {
   "cell_type": "markdown",
   "id": "971de089",
   "metadata": {},
   "source": [
    "# Assignment 3: Functions, Lambda, Exception Handling\n",
    "\n",
    "**Course:** AbzumsAI Programming 1404\n",
    "\n",
    "**Instructor:** Mr. Ali Mohammadzadeh Shabestari\n",
    "\n",
    "**Date Assigned:** June 28, 2025\n",
    "\n",
    "**Deadline:** July 2, 2025"
   ]
  },
  {
   "cell_type": "markdown",
   "id": "08247c0f",
   "metadata": {},
   "source": [
    "## Learning Objectives\n",
    "\n",
    "By the end of this notebook, you will:\n",
    "\n",
    "- Define and call functions with parameters and return values in Python.\n",
    "- Use default parameters and understand how functions improve code reusability.\n",
    "- Create and apply anonymous functions using lambda syntax.\n",
    "- Use lambda with built-in functions like `map()` and `filter()` to process data concisely.\n",
    "- Handle runtime errors gracefully using `try` and `except` blocks.\n",
    "- Write robust programs that validate user input and prevent crashes due to exceptions.\n",
    "\n",
    "---"
   ]
  },
  {
   "cell_type": "markdown",
   "id": "20adfbee",
   "metadata": {},
   "source": [
    "# Cell 0: Student Information\n",
    "\n",
    "### Please enter your details for grading purposes:\n",
    "\n",
    "Your Name: Sepeta Zibaei\n",
    "\n",
    "Your Email:sepz821mds@gmail.com\n",
    "\n",
    "Your GtiHub Link: github.com/sep-iz"
   ]
  },
  {
   "cell_type": "markdown",
   "id": "f52707df",
   "metadata": {},
   "source": [
    "## Cell 1: Basic Function Definition"
   ]
  },
  {
   "cell_type": "markdown",
   "id": "0e9b1c2c",
   "metadata": {},
   "source": [
    "Write a function called `greet` that\n",
    "- Takes a name as input, and prints \"Hello, `name`!\"\n"
   ]
  },
  {
   "cell_type": "code",
   "execution_count": 3,
   "id": "e32c723b",
   "metadata": {},
   "outputs": [
    {
     "name": "stdout",
     "output_type": "stream",
     "text": [
      "Hello, sepeta!\n"
     ]
    }
   ],
   "source": [
    "def greet(sepeta):\n",
    "    print(f\"Hello, {sepeta}!\")\n",
    "greet(\"sepeta\")"
   ]
  },
  {
   "cell_type": "markdown",
   "id": "343fbe55",
   "metadata": {},
   "source": [
    "## Cell 2: Function with Return Value"
   ]
  },
  {
   "cell_type": "markdown",
   "id": "ec478dc6",
   "metadata": {},
   "source": [
    "Write a function `analyze_numbers` that takes two numbers as input. The function should:\n",
    "- Print both numbers\n",
    "- Calculate their sum\n",
    "- Print whether the sum is even or odd\n",
    "- Return the sum\n",
    "\n"
   ]
  },
  {
   "cell_type": "code",
   "execution_count": 4,
   "id": "8061cdba",
   "metadata": {},
   "outputs": [
    {
     "name": "stdout",
     "output_type": "stream",
     "text": [
      "The numbers are 3 and 5\n",
      "The sum (8) is even\n"
     ]
    },
    {
     "data": {
      "text/plain": [
       "8"
      ]
     },
     "execution_count": 4,
     "metadata": {},
     "output_type": "execute_result"
    }
   ],
   "source": [
    "def analyze_numbers(num1,num2):\n",
    "    print(f\"The numbers are {num1} and {num2}\")\n",
    "    total = num1 + num2\n",
    "    if total % 2 == 0 :\n",
    "        print(f\"The sum ({total}) is even\")\n",
    "    else:\n",
    "        print(f\"The sum ({total}) is odd\")\n",
    "    return total\n",
    "analyze_numbers(3,5)"
   ]
  },
  {
   "cell_type": "markdown",
   "id": "0711bafc",
   "metadata": {},
   "source": [
    "## Cell 3: Fucntion with Multiple Return Value"
   ]
  },
  {
   "cell_type": "markdown",
   "id": "c1532d72",
   "metadata": {},
   "source": [
    "Write a function called find_a_b that takes two numbers as input:\n",
    "- The sum of two unknown numbers (x + y)\n",
    "- The difference of those same two numbers (x - y)\n",
    "\n",
    "The function should:\n",
    "- Calculate and return the original numbers x and y in order (x, y)\n",
    "- Assume that x > y"
   ]
  },
  {
   "cell_type": "code",
   "execution_count": 5,
   "id": "2fc06915",
   "metadata": {},
   "outputs": [
    {
     "data": {
      "text/plain": [
       "(6.0, 4.0)"
      ]
     },
     "execution_count": 5,
     "metadata": {},
     "output_type": "execute_result"
    }
   ],
   "source": [
    "def find_a_b(sum_xy, diff_xy):\n",
    "    x = (sum_xy + diff_xy) / 2\n",
    "    y = (sum_xy - diff_xy) / 2\n",
    "    return(x,y)\n",
    "find_a_b(10,2)"
   ]
  },
  {
   "cell_type": "markdown",
   "id": "884813ad",
   "metadata": {},
   "source": [
    "## Cell 4: Function with Default Argument"
   ]
  },
  {
   "cell_type": "markdown",
   "id": "a37e7992",
   "metadata": {},
   "source": [
    "Read the function below carefully.\n",
    "- In your own words, explain what this function does step by step.\n",
    "- Write your explanation in the following cell 👇"
   ]
  },
  {
   "cell_type": "markdown",
   "id": "f09b013a",
   "metadata": {},
   "source": [
    "🌱 Your Answer: the function takes the price number and also the percentage of tax and discount.\n",
    "then, calculates the \"discount amount\" and \"price after discount\" based on the formula, informs the user with the discount percentage and how much is deducted from the primary price amount.in next step, it calculates the \"tax amount\" then informs the user with tax percentage and how much is added to the price after discount is applied.\n",
    " The \"final price\" is calculated and the functions returns \"the final price\" with max of 2 decimal places if there's any float number provided.( the round() function usage is to round the float numbers to whatever value it is given)"
   ]
  },
  {
   "cell_type": "code",
   "execution_count": null,
   "id": "7c224bb3",
   "metadata": {},
   "outputs": [],
   "source": [
    "def calculate_discounted_price(price, discount=10, tax=5):\n",
    "    print(f\"Original price: ${price}\")\n",
    "    \n",
    "    discount_amount = price * (discount / 100)\n",
    "    price_after_discount = price - discount_amount\n",
    "    print(f\"Discount ({discount}%): -${discount_amount}\")\n",
    "    print(f\"Price after discount: ${price_after_discount}\")\n",
    "    \n",
    "    tax_amount = price_after_discount * (tax / 100)\n",
    "    final_price = price_after_discount + tax_amount\n",
    "    print(f\"Tax ({tax}%): +${tax_amount}\")\n",
    "    print(f\"Final price: ${final_price}\")\n",
    "    \n",
    "    return round(final_price, 2)\n",
    "\n",
    "# Example usage:\n",
    "calculate_discounted_price(100)"
   ]
  },
  {
   "cell_type": "markdown",
   "id": "f52389fd",
   "metadata": {},
   "source": [
    "## Cell 5: Lambda with `map()`"
   ]
  },
  {
   "cell_type": "markdown",
   "id": "9e6be806",
   "metadata": {},
   "source": [
    "You are given a list of full names in the format \"First Last\".\n",
    "- Use `map()` and a `lambda` function to extract only the first names from the list."
   ]
  },
  {
   "cell_type": "code",
   "execution_count": 8,
   "id": "ee4c20c3",
   "metadata": {},
   "outputs": [
    {
     "name": "stdout",
     "output_type": "stream",
     "text": [
      "['Alexander', 'Elizabeth', 'Edward', 'William']\n"
     ]
    }
   ],
   "source": [
    "full_names = [\"Alexander Fleming\", \"Elizabeth Blackwell\", \"Edward Jenner\", \"William Osler\"]\n",
    "first_names = list(map(lambda name : name.split(\" \")[0], full_names))\n",
    "print(first_names)"
   ]
  },
  {
   "cell_type": "markdown",
   "id": "11355cd8",
   "metadata": {},
   "source": [
    "## Cell 6: Lambda with `filter()`"
   ]
  },
  {
   "cell_type": "markdown",
   "id": "3a9dd04a",
   "metadata": {},
   "source": [
    "You are given a list of user dictionaries. Each user has a name, age, and an \"active\" status.\n",
    "Use `filter()` and a `lambda` function to select users who:\n",
    "- Are at least 18 years old\n",
    "- Have 'active' set to True\n",
    "\n",
    "💡 Make use of `and` operator"
   ]
  },
  {
   "cell_type": "code",
   "execution_count": 12,
   "id": "4dd5903d",
   "metadata": {},
   "outputs": [
    {
     "name": "stdout",
     "output_type": "stream",
     "text": [
      "[{'name': 'Reza', 'age': 19, 'active': True}, {'name': 'Lina', 'age': 25, 'active': True}]\n"
     ]
    }
   ],
   "source": [
    "users = [\n",
    "    {\"name\": \"Ali\", \"age\": 17, \"active\": True},\n",
    "    {\"name\": \"Sara\", \"age\": 22, \"active\": False},\n",
    "    {\"name\": \"Reza\", \"age\": 19, \"active\": True},\n",
    "    {\"name\": \"Lina\", \"age\": 25, \"active\": True},\n",
    "    {\"name\": \"Mona\", \"age\": 16, \"active\": True},\n",
    "    {\"name\": \"Javad\", \"age\": 20, \"active\": False},\n",
    "]\n",
    "\n",
    "filtered_users = list(filter(lambda user : user [\"age\"] >=18 and user [\"active\"], users))\n",
    "print(filtered_users)"
   ]
  },
  {
   "cell_type": "markdown",
   "id": "3c88871f",
   "metadata": {},
   "source": [
    "## Cell 7: Exception Handling"
   ]
  },
  {
   "cell_type": "markdown",
   "id": "70f56881",
   "metadata": {},
   "source": [
    "Carefully read the following code.\n",
    "- Do NOT run or modify it yet.\n",
    "- In the next cell, explain in your own words what this program does, step by step. 👇"
   ]
  },
  {
   "cell_type": "markdown",
   "id": "4e9e5779",
   "metadata": {},
   "source": [
    "🌱 Your Answer: The divider is supposed to divide an integer or float-point number by another one. So the while true() is used to initiate an infinite loop, only broken by break(). try() is used due to potential value errors, so the execution jumps to except(). continue() runs to the beginning of the while true loop. The else() block only runs when try() is completed successfully, rounding the provided number by 3 decimal places. finally() block always runs even if an error occurs in try() block and whether break() or continue() is used."
   ]
  },
  {
   "cell_type": "code",
   "execution_count": null,
   "id": "42bbaecd",
   "metadata": {},
   "outputs": [],
   "source": [
    "while True:\n",
    "    try:\n",
    "        numerator = float(input(\"Enter the numerator: \"))\n",
    "        denominator = float(input(\"Enter the denominator: \"))\n",
    "\n",
    "        result = numerator / denominator\n",
    "    except ValueError:\n",
    "        print(\"⚠️ Please enter valid numeric values.\")\n",
    "        continue\n",
    "    except ZeroDivisionError:\n",
    "        print(\"⚠️ Denominator cannot be zero. Try again.\")\n",
    "        continue\n",
    "    else:\n",
    "        print(f\"✅ Result: {round(result, 3)}\")\n",
    "        break\n",
    "    finally:\n",
    "        print(\"📘 Thank you for using the divider.\\n\")"
   ]
  }
 ],
 "metadata": {
  "kernelspec": {
   "display_name": "Python [conda env:base] *",
   "language": "python",
   "name": "conda-base-py"
  },
  "language_info": {
   "codemirror_mode": {
    "name": "ipython",
    "version": 3
   },
   "file_extension": ".py",
   "mimetype": "text/x-python",
   "name": "python",
   "nbconvert_exporter": "python",
   "pygments_lexer": "ipython3",
   "version": "3.12.7"
  }
 },
 "nbformat": 4,
 "nbformat_minor": 5
}
